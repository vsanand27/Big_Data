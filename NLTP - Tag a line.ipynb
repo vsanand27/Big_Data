{
 "cells": [
  {
   "cell_type": "code",
   "execution_count": 1,
   "metadata": {},
   "outputs": [
    {
     "name": "stdout",
     "output_type": "stream",
     "text": [
      "[('I', 'PRP'), ('enjoy', 'VBP'), ('biking', 'VBG'), ('on', 'IN'), ('the', 'DT'), ('trails', 'NNS')]\n"
     ]
    }
   ],
   "source": [
    "import nltk\n",
    "from nltk import word_tokenize\n",
    "text = word_tokenize(\"I enjoy biking on the trails\")\n",
    "output = nltk.pos_tag(text)\n",
    "print(output)"
   ]
  },
  {
   "cell_type": "markdown",
   "metadata": {},
   "source": [
    "given document, as the example below illustrates:\n",
    "Word\n",
    "PoS and Tags\n",
    "I - Personal pronoun (PRP)\n",
    "enjoy - Verb, non-third person (VBP)\n",
    "biking- Verb, gerund, present participle (VBG)\n",
    "on -Preposition or subordinating conjunction (IN)\n",
    "the -Determiner (DT)\n",
    "trails - Noun, plural (N"
   ]
  },
  {
   "cell_type": "markdown",
   "metadata": {},
   "source": [
    ". If we create a bag-of-words (BoW) model (i.e., the most frequent words), we can build models from that."
   ]
  }
 ],
 "metadata": {
  "kernelspec": {
   "display_name": "PythonData",
   "language": "python",
   "name": "pythondata"
  },
  "language_info": {
   "codemirror_mode": {
    "name": "ipython",
    "version": 3
   },
   "file_extension": ".py",
   "mimetype": "text/x-python",
   "name": "python",
   "nbconvert_exporter": "python",
   "pygments_lexer": "ipython3",
   "version": "3.7.6"
  }
 },
 "nbformat": 4,
 "nbformat_minor": 2
}
